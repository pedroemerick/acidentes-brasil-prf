{
  "nbformat": 4,
  "nbformat_minor": 0,
  "metadata": {
    "colab": {
      "name": "accidents-federal-roads.ipynb",
      "version": "0.3.2",
      "provenance": [],
      "collapsed_sections": []
    },
    "language_info": {
      "codemirror_mode": {
        "name": "ipython",
        "version": 3
      },
      "file_extension": ".py",
      "mimetype": "text/x-python",
      "name": "python",
      "nbconvert_exporter": "python",
      "pygments_lexer": "ipython3",
      "version": "3.6.8"
    },
    "kernelspec": {
      "display_name": "Python 3",
      "language": "python",
      "name": "python3"
    }
  },
  "cells": [
    {
      "cell_type": "code",
      "metadata": {
        "id": "vTHOYdrfm1og",
        "colab_type": "code",
        "colab": {
          "base_uri": "https://localhost:8080/",
          "height": 612
        },
        "outputId": "577510f4-e204-4c2d-9429-af30e4db973a"
      },
      "source": [
        "import pandas as pd\n",
        "\n",
        "dados_datatran = []\n",
        "for ii in range(2017,2020):\n",
        "    csv = './datasets/datatran' + str(ii) + '.csv' \n",
        "#     csv = './datatran' + str(ii) + '.csv' \n",
        "  \n",
        "    dado = pd.read_csv(csv, encoding = \"ISO-8859-1\", sep=';', engine='python', error_bad_lines=False)\n",
        "    dados_datatran.append(dado)\n",
        "    \n",
        "datatran = pd.concat(dados_datatran, ignore_index=True)\n",
        "datatran.fase_dia = datatran.fase_dia.apply(lambda x: x.strip().rstrip())\n",
        "datatran.causa_acidente = datatran.causa_acidente.apply(lambda x: x.strip().rstrip())\n",
        "datatran.condicao_metereologica = datatran.condicao_metereologica.apply(lambda x: x.strip().rstrip())\n",
        "datatran.info()"
      ],
      "execution_count": 5,
      "outputs": [
        {
          "output_type": "stream",
          "text": [
            "<class 'pandas.core.frame.DataFrame'>\n",
            "RangeIndex: 174312 entries, 0 to 174311\n",
            "Data columns (total 30 columns):\n",
            "id                        174312 non-null float64\n",
            "data_inversa              174312 non-null object\n",
            "dia_semana                174312 non-null object\n",
            "horario                   174312 non-null object\n",
            "uf                        174312 non-null object\n",
            "br                        174039 non-null float64\n",
            "km                        174039 non-null object\n",
            "municipio                 174312 non-null object\n",
            "causa_acidente            174312 non-null object\n",
            "tipo_acidente             174312 non-null object\n",
            "classificacao_acidente    174312 non-null object\n",
            "fase_dia                  174312 non-null object\n",
            "sentido_via               174312 non-null object\n",
            "condicao_metereologica    174312 non-null object\n",
            "tipo_pista                174312 non-null object\n",
            "tracado_via               174312 non-null object\n",
            "uso_solo                  174312 non-null object\n",
            "pessoas                   174312 non-null int64\n",
            "mortos                    174312 non-null int64\n",
            "feridos_leves             174312 non-null int64\n",
            "feridos_graves            174312 non-null int64\n",
            "ilesos                    174312 non-null int64\n",
            "ignorados                 174312 non-null int64\n",
            "feridos                   174312 non-null int64\n",
            "veiculos                  174312 non-null int64\n",
            "latitude                  174312 non-null float64\n",
            "longitude                 174312 non-null float64\n",
            "regional                  174312 non-null object\n",
            "delegacia                 174312 non-null object\n",
            "uop                       172662 non-null object\n",
            "dtypes: float64(4), int64(8), object(18)\n",
            "memory usage: 39.9+ MB\n"
          ],
          "name": "stdout"
        }
      ]
    },
    {
      "cell_type": "code",
      "metadata": {
        "id": "5-kb6hj8m1ou",
        "colab_type": "code",
        "colab": {
          "base_uri": "https://localhost:8080/",
          "height": 374
        },
        "outputId": "2984ca33-0b73-4724-8f39-d5d14c117318"
      },
      "source": [
        "print(\"Quantidade de acidentes\",len(datatran.index))\n",
        "\n",
        "print(\"+ Pessoas envolvidas:\")\n",
        "print(\"Quantidade de pessoas envolvidas\",datatran.pessoas.sum())\n",
        "print(\"Média de pessoas envolvidas por acidente\",datatran.pessoas.mean())\n",
        "print(\"Máximo de pessoas envolvidas em acidentes\",datatran.pessoas.max())\n",
        "print(\"Mínimo de pessoas envolvidas em acidentes\",datatran.pessoas.min())\n",
        "\n",
        "print(\"+ Vítimas fatais:\")\n",
        "print(\"Quantidade vítimas fatais\",datatran.mortos.sum())\n",
        "print(\"Média de vítimas fatais\",datatran.mortos.mean())\n",
        "print(\"Máximo de vítimas fatais\",datatran.mortos.max())\n",
        "print(\"Mínimo de vítimas fatais\",datatran.mortos.min())\n",
        "\n",
        "print(\"+ Feridos:\")\n",
        "print(\"Quantidade feridos\",datatran.feridos.sum())\n",
        "print(\"Média de feridos\",datatran.feridos.mean())\n",
        "print(\"Máximo de feridos\",datatran.feridos.max())\n",
        "print(\"Mínimo de feridos\",datatran.feridos.min())\n",
        "\n",
        "print(\"+ Ilesos:\")\n",
        "print(\"Quantidade ilesos\",datatran.ilesos.sum())\n",
        "print(\"Média de ilesos\",datatran.ilesos.mean())\n",
        "print(\"Máximo de ilesos\",datatran.ilesos.max())\n",
        "print(\"Mínimo de ilesos\",datatran.ilesos.min())"
      ],
      "execution_count": 6,
      "outputs": [
        {
          "output_type": "stream",
          "text": [
            "Quantidade de acidentes 174312\n",
            "+ Pessoas envolvidas:\n",
            "Quantidade de pessoas envolvidas 407126\n",
            "Média de pessoas envolvidas por acidente 2.3356165955298547\n",
            "Máximo de pessoas envolvidas em acidentes 80\n",
            "Mínimo de pessoas envolvidas em acidentes 1\n",
            "+ Vítimas fatais:\n",
            "Quantidade vítimas fatais 12712\n",
            "Média de vítimas fatais 0.07292670613612373\n",
            "Máximo de vítimas fatais 21\n",
            "Mínimo de vítimas fatais 0\n",
            "+ Feridos:\n",
            "Quantidade feridos 179506\n",
            "Média de feridos 1.0297971453485704\n",
            "Máximo de feridos 66\n",
            "Mínimo de feridos 0\n",
            "+ Ilesos:\n",
            "Quantidade ilesos 193455\n",
            "Média de ilesos 1.109820322180917\n",
            "Máximo de ilesos 64\n",
            "Mínimo de ilesos 0\n"
          ],
          "name": "stdout"
        }
      ]
    },
    {
      "cell_type": "code",
      "metadata": {
        "id": "xygRt-Dbm1o4",
        "colab_type": "code",
        "colab": {
          "base_uri": "https://localhost:8080/",
          "height": 153
        },
        "outputId": "a20482a2-8927-4d3c-f3d0-41081fbc49c3"
      },
      "source": [
        "datatran.dia_semana.value_counts()"
      ],
      "execution_count": 7,
      "outputs": [
        {
          "output_type": "execute_result",
          "data": {
            "text/plain": [
              "sábado           29082\n",
              "domingo          28559\n",
              "sexta-feira      26879\n",
              "segunda-feira    23562\n",
              "quinta-feira     22991\n",
              "quarta-feira     21794\n",
              "terça-feira      21445\n",
              "Name: dia_semana, dtype: int64"
            ]
          },
          "metadata": {
            "tags": []
          },
          "execution_count": 7
        }
      ]
    },
    {
      "cell_type": "code",
      "metadata": {
        "id": "ItSPvJcbm1pB",
        "colab_type": "code",
        "colab": {}
      },
      "source": [
        "import plotly.plotly as py\n",
        "import plotly.graph_objs as go\n",
        "import plotly.offline as offline\n",
        "\n",
        "br_dias_semana = go.Bar(x=datatran.dia_semana.value_counts().index,\n",
        "                          y=datatran.dia_semana.value_counts().values,\n",
        "                          marker=dict(color='rgb(180, 20, 20)'))\n",
        "\n",
        "data_dias_bar = [br_dias_semana]\n",
        "\n",
        "layout_dias_bar = go.Layout(title=\"Acidentes por dia da semana\",\n",
        "        font={'size':10},\n",
        "        xaxis=go.layout.XAxis(title=go.layout.xaxis.Title(text='Dia da semana',font=dict(size=18))),\n",
        "        yaxis=go.layout.YAxis(title=go.layout.yaxis.Title(text='Quantidade de Acidentes',font=dict(size=18,)))\n",
        "    )\n",
        "\n",
        "fig_quantidade_bar = go.Figure(data=data_dias_bar,layout=layout_dias_bar)\n",
        "offline.plot(fig_quantidade_bar,filename='./graficos_mapas/bar_dias.html')"
      ],
      "execution_count": 0,
      "outputs": []
    },
    {
      "cell_type": "code",
      "metadata": {
        "id": "iO1Xs-q-m1pN",
        "colab_type": "code",
        "colab": {}
      },
      "source": [
        "datatran.condicao_metereologica.value_counts()"
      ],
      "execution_count": 0,
      "outputs": []
    },
    {
      "cell_type": "code",
      "metadata": {
        "id": "b22ss4zZm1pa",
        "colab_type": "code",
        "colab": {}
      },
      "source": [
        "datatran.fase_dia.value_counts()"
      ],
      "execution_count": 0,
      "outputs": []
    },
    {
      "cell_type": "code",
      "metadata": {
        "id": "Mxsyv9p6m1pn",
        "colab_type": "code",
        "colab": {}
      },
      "source": [
        "br_dias_plena_noite = go.Bar(x=datatran[datatran.fase_dia == 'Plena Noite'].condicao_metereologica.value_counts().index,\n",
        "                          y=datatran[datatran.fase_dia == 'Plena Noite'].condicao_metereologica.value_counts().values,\n",
        "                          name='Plena noite',\n",
        "                          marker=dict(color='rgb(6, 0, 66)'))\n",
        "br_dias_pleno_dia = go.Bar(x=datatran[datatran.fase_dia == 'Pleno dia'].condicao_metereologica.value_counts().index,\n",
        "                          y=datatran[datatran.fase_dia == 'Pleno dia'].condicao_metereologica.value_counts().values,\n",
        "                          name='Pleno dia',\n",
        "                          marker=dict(color='rgb(255, 204, 0)'))\n",
        "br_dias_anoitecer = go.Bar(x=datatran[datatran.fase_dia == 'Anoitecer'].condicao_metereologica.value_counts().index,\n",
        "                          y=datatran[datatran.fase_dia == 'Anoitecer'].condicao_metereologica.value_counts().values,\n",
        "                          name='Anoitecer',\n",
        "                          marker=dict(color='rgb(255, 123, 0)'))\n",
        "br_dias_amanhecer = go.Bar(x=datatran[datatran.fase_dia == 'Amanhecer'].condicao_metereologica.value_counts().index,\n",
        "                          y=datatran[datatran.fase_dia == 'Amanhecer'].condicao_metereologica.value_counts().values,\n",
        "                          name='Amanhecer',\n",
        "                          marker=dict(color='rgb(0, 125, 188)'))\n",
        "\n",
        "data_dias_bar = [br_dias_amanhecer,br_dias_pleno_dia,br_dias_anoitecer,br_dias_plena_noite]\n",
        "\n",
        "layout_dias_bar = go.Layout(title=\"Condições meteorológicas e fases do dia dos acidentes\",\n",
        "        font={'size':10},\n",
        "        barmode='stack',\n",
        "        xaxis=go.layout.XAxis(title=go.layout.xaxis.Title(text='Condição meteorológica',font=dict(size=18))),\n",
        "        yaxis=go.layout.YAxis(title=go.layout.yaxis.Title(text='Quantidade de Acidentes',font=dict(size=18,)))\n",
        "    )\n",
        "\n",
        "fig_quantidade_bar = go.Figure(data=data_dias_bar,layout=layout_dias_bar)\n",
        "offline.plot(fig_quantidade_bar,filename='./graficos_mapas/condicoes_meteorologicas_fase_dia.html')"
      ],
      "execution_count": 0,
      "outputs": []
    },
    {
      "cell_type": "code",
      "metadata": {
        "id": "LePcPSI3m1px",
        "colab_type": "code",
        "colab": {}
      },
      "source": [
        "datatran.causa_acidente.value_counts()"
      ],
      "execution_count": 0,
      "outputs": []
    },
    {
      "cell_type": "code",
      "metadata": {
        "id": "wiw0L67jm1p7",
        "colab_type": "code",
        "colab": {}
      },
      "source": [
        "datatran.br.dropna().value_counts().head(10)"
      ],
      "execution_count": 0,
      "outputs": []
    },
    {
      "cell_type": "code",
      "metadata": {
        "id": "WvY11vuvm1qA",
        "colab_type": "code",
        "colab": {}
      },
      "source": [
        "datatran.br.dropna().value_counts().head(10).values.sum() / datatran.br.dropna().value_counts().values.sum() * 100"
      ],
      "execution_count": 0,
      "outputs": []
    },
    {
      "cell_type": "code",
      "metadata": {
        "id": "zTqGoIUwm1qG",
        "colab_type": "code",
        "colab": {}
      },
      "source": [
        "br_acidentes_count = datatran.br.dropna().astype(int).astype(str).value_counts().sort_values(ascending=False)\n",
        "br_acidentes_count.index = 'BR ' + br_acidentes_count.index \n",
        "\n",
        "br_acidentes_bar = go.Bar(x=br_acidentes_count.index,\n",
        "                          y=br_acidentes_count.values,\n",
        "                          marker=dict(color='rgb(180, 20, 20)'))\n",
        "\n",
        "data_quantidade_bar = [br_acidentes_bar]\n",
        "\n",
        "layout_quantidade_bar = go.Layout(title=\"Acidentes em Rodovias Federais\",\n",
        "        font={'size':10},\n",
        "        xaxis=go.layout.XAxis(title=go.layout.xaxis.Title(text='Rodovias Federais',font=dict(size=18))),\n",
        "        yaxis=go.layout.YAxis(title=go.layout.yaxis.Title(text='Quantidade de Acidentes',font=dict(size=18,)))\n",
        "    )\n",
        "\n",
        "fig_quantidade_bar = go.Figure(data=data_quantidade_bar,layout=layout_quantidade_bar)\n",
        "offline.plot(fig_quantidade_bar,filename='./graficos_mapas/bar_br_count.html')"
      ],
      "execution_count": 0,
      "outputs": []
    },
    {
      "cell_type": "code",
      "metadata": {
        "id": "kK2y5xBgm1qO",
        "colab_type": "code",
        "colab": {}
      },
      "source": [
        "br_acidentes_count"
      ],
      "execution_count": 0,
      "outputs": []
    },
    {
      "cell_type": "code",
      "metadata": {
        "scrolled": false,
        "id": "NL9oKQZzm1qT",
        "colab_type": "code",
        "colab": {}
      },
      "source": [
        "import folium\n",
        "import requests\n",
        "import geocoder\n",
        "\n",
        "headers = {\n",
        "    'Content-Type': 'application/json;charset=UTF-8',\n",
        "    'User-Agent': 'google-colab',\n",
        "    'Accept': 'application/json, text/plain, */*',\n",
        "    'Accept-Encoding': 'gzip, deflate, br',\n",
        "    'Accept-Language': 'pt-BR,pt;q=0.9,en-US;q=0.8,en;q=0.7',\n",
        "    'Connection': 'keep-alive',\n",
        "}\n",
        "\n",
        "response = requests.get(\"https://servicodados.ibge.gov.br/api/v2/malhas/\"+\n",
        "                        \"?formato=application/vnd.geo+json&resolucao=2\",\n",
        "                       headers=headers)\n",
        "brazil_json = response.json()\n",
        "\n",
        "brazil_geo = geocoder.arcgis(\"Brazil\")\n",
        "m = folium.Map(location=brazil_geo.latlng,zoom_start=4,tiles='Open Street Map')\n",
        "\n",
        "folium.Choropleth(geo_data=brazil_json, line_weight=2, fill_opacity=0, name='Marcação das UFs').add_to(m)\n",
        "m"
      ],
      "execution_count": 0,
      "outputs": []
    },
    {
      "cell_type": "code",
      "metadata": {
        "id": "TVk4ICgJm1qc",
        "colab_type": "code",
        "colab": {}
      },
      "source": [
        "identificador_estados = requests.get('https://servicodados.ibge.gov.br/api/v1/localidades/estados',\n",
        "                       headers=headers).json()\n",
        "\n",
        "id_sigla = {}\n",
        "for estado in identificador_estados:\n",
        "    id_sigla[str(estado['id'])] = estado['sigla']"
      ],
      "execution_count": 0,
      "outputs": []
    },
    {
      "cell_type": "code",
      "metadata": {
        "id": "M-v_1iClm1qi",
        "colab_type": "code",
        "colab": {}
      },
      "source": [
        "top_n_rodovias = 10\n",
        "\n",
        "rodovias_estados_geojsons = {}\n",
        "rodovias_acidentes_latlng = {}\n",
        "rodovias = datatran.br.dropna().value_counts().head(top_n_rodovias).index\n",
        "\n",
        "for rodovia_ranking in range(0,top_n_rodovias):\n",
        "    rodovia = rodovias[rodovia_ranking]\n",
        "    \n",
        "    # estados que cada rodovia passa, ou pelo menos há registro de acidente\n",
        "    estados_ocorrencias_rodovia = datatran[datatran.br == rodovia].uf.value_counts()\n",
        "    \n",
        "    rodovias_estados_geojsons[rodovia] = requests.get(\"https://servicodados.ibge.gov.br/api/v2/malhas/\"+\n",
        "                                        \"?formato=application/vnd.geo+json&resolucao=2\",\n",
        "                                       headers=headers).json()\n",
        "    features_estados_rodovia = []\n",
        "    for index in range(0,len(brazil_json['features'])):\n",
        "        if id_sigla[rodovias_estados_geojsons[rodovia]['features'][index]['properties']['codarea']] in estados_ocorrencias_rodovia.index:\n",
        "            features_estados_rodovia.append(rodovias_estados_geojsons[rodovia]['features'][index])\n",
        "            \n",
        "    rodovias_estados_geojsons[rodovia]['features'] = features_estados_rodovia\n",
        "    \n",
        "    # latitudes e longitudes de cada rodovia\n",
        "    rodovias_acidentes_latlng[rodovia] = [[row.latitude,row.longitude] for index,row in datatran[datatran.br == rodovia].iterrows()]"
      ],
      "execution_count": 0,
      "outputs": []
    },
    {
      "cell_type": "code",
      "metadata": {
        "id": "zfc7-gP_m1qm",
        "colab_type": "code",
        "colab": {}
      },
      "source": [
        "from folium.plugins import HeatMap, FeatureGroupSubGroup\n",
        "from folium.map import Layer\n",
        "from folium import LayerControl, FeatureGroup\n",
        "\n",
        "m = folium.Map(location=brazil_geo.latlng,zoom_start=4)\n",
        "folium.TileLayer(tiles='openstreetmap',control=False,overlay=True).add_to(m)\n",
        "\n",
        "for rodovia_ranking in range(0,top_n_rodovias):\n",
        "    group = FeatureGroup(name='BR ' + str(int(rodovias[rodovia_ranking])),overlay=False)\n",
        "    folium.Choropleth(geo_data=rodovias_estados_geojsons[rodovias[rodovia_ranking]], line_weight=2, fill_opacity=0).add_to(group)\n",
        "    HeatMap(data=rodovias_acidentes_latlng[rodovias[rodovia_ranking]]).add_to(group)\n",
        "    group.add_to(m)\n",
        "\n",
        "LayerControl().add_to(m)\n",
        "m.save('./graficos_mapas/heatmap_rodovias.html')"
      ],
      "execution_count": 0,
      "outputs": []
    },
    {
      "cell_type": "code",
      "metadata": {
        "id": "AgjuABgtm1qr",
        "colab_type": "code",
        "colab": {}
      },
      "source": [
        "dia_acidente_latlng = pd.DataFrame(datatran[['data_inversa','latitude','longitude']])\n",
        "dia_acidente_latlng.data_inversa = dia_acidente_latlng.data_inversa.apply(lambda x: x.split('-')[1] + '-' + x.split('-')[0])\n",
        "dia_acidente_latlng.latitude = dia_acidente_latlng[['latitude','longitude']].values.tolist()\n",
        "dia_acidente_latlng.drop(columns=['longitude'],inplace=True)\n",
        "dia_acidente_latlng.rename(columns={'data_inversa':'mes_ano','latitude':'latlng'},inplace=True)\n",
        "\n",
        "datas_acidentes_indexes = []\n",
        "latlng_acidentes = []\n",
        "\n",
        "for index,value in dia_acidente_latlng.groupby('mes_ano')['latlng'].apply(list).items():\n",
        "    datas_acidentes_indexes.append(index)\n",
        "    latlng_acidentes.append(value)"
      ],
      "execution_count": 0,
      "outputs": []
    },
    {
      "cell_type": "code",
      "metadata": {
        "id": "rw7Aszjom1qv",
        "colab_type": "code",
        "colab": {}
      },
      "source": [
        "from folium.plugins import HeatMapWithTime\n",
        "\n",
        "m = folium.Map(location=brazil_geo.latlng,zoom_start=4)\n",
        "\n",
        "HeatMapWithTime(data=latlng_acidentes,index=datas_acidentes_indexes).add_to(m)\n",
        "\n",
        "m.save('./graficos_mapas/heatmap_time_play.html')"
      ],
      "execution_count": 0,
      "outputs": []
    }
  ]
}